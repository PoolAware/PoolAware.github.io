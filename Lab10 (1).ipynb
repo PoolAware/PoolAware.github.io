{
  "nbformat": 4,
  "nbformat_minor": 0,
  "metadata": {
    "colab": {
      "provenance": []
    },
    "kernelspec": {
      "name": "python3",
      "display_name": "Python 3"
    },
    "language_info": {
      "name": "python"
    }
  },
  "cells": [
    {
      "cell_type": "markdown",
      "source": [
        "# Use Dense Neural Network for Inference on MNIST Dataset\n",
        "Step 1: Load the dataset \\\\\n",
        "Step 2: Build a neural network model based on the dataset \\\\\n",
        "Step 3: Compile the model \\\\\n",
        "Step 4: Train the model \\\\\n",
        "Step 5: Inference on the test data"
      ],
      "metadata": {
        "id": "iTJBirvO_lMh"
      }
    },
    {
      "cell_type": "markdown",
      "source": [
        "# Import Libraries"
      ],
      "metadata": {
        "id": "FokxV_QJG9WJ"
      }
    },
    {
      "cell_type": "code",
      "execution_count": 3,
      "metadata": {
        "id": "T0sqaYGU_A0_"
      },
      "outputs": [],
      "source": [
        "# TensorFlow and tf.keras\n",
        "import tensorflow as tf\n",
        "from tensorflow import keras\n",
        "from tensorflow.keras import Sequential\n",
        "from tensorflow.keras.layers import Dense\n",
        "from tensorflow.keras.layers import Flatten\n",
        "\n",
        "# Helper libraries\n",
        "import numpy as np\n",
        "import matplotlib.pyplot as plt"
      ]
    },
    {
      "cell_type": "markdown",
      "source": [
        "# Dataset: MNIST "
      ],
      "metadata": {
        "id": "0TiNIwdLPQ3G"
      }
    },
    {
      "cell_type": "code",
      "source": [
        "(x_train, y_train), (x_test, y_test) = keras.datasets.cifar10.load_data()"
      ],
      "metadata": {
        "id": "PruuzyqAPO38",
        "colab": {
          "base_uri": "https://localhost:8080/"
        },
        "outputId": "c2951bc8-9b03-4b4e-ac97-f4f3d9e1f172"
      },
      "execution_count": 2,
      "outputs": [
        {
          "output_type": "stream",
          "name": "stdout",
          "text": [
            "Downloading data from https://www.cs.toronto.edu/~kriz/cifar-10-python.tar.gz\n",
            "170498071/170498071 [==============================] - 17s 0us/step\n"
          ]
        }
      ]
    },
    {
      "cell_type": "code",
      "source": [
        "x_train.shape"
      ],
      "metadata": {
        "colab": {
          "base_uri": "https://localhost:8080/"
        },
        "id": "oB59aPHoQla8",
        "outputId": "e5384806-49f9-41c3-f090-7c3dd23cb830"
      },
      "execution_count": 4,
      "outputs": [
        {
          "output_type": "execute_result",
          "data": {
            "text/plain": [
              "(50000, 32, 32, 3)"
            ]
          },
          "metadata": {},
          "execution_count": 4
        }
      ]
    },
    {
      "cell_type": "code",
      "source": [
        "y_train.shape"
      ],
      "metadata": {
        "colab": {
          "base_uri": "https://localhost:8080/"
        },
        "id": "qnVxM3ajYCB8",
        "outputId": "8969147e-0804-47ce-e0eb-99ef60014967"
      },
      "execution_count": 5,
      "outputs": [
        {
          "output_type": "execute_result",
          "data": {
            "text/plain": [
              "(50000, 1)"
            ]
          },
          "metadata": {},
          "execution_count": 5
        }
      ]
    },
    {
      "cell_type": "code",
      "source": [
        "print(y_train[0:10])"
      ],
      "metadata": {
        "colab": {
          "base_uri": "https://localhost:8080/"
        },
        "id": "PZ0J0iNDeOwz",
        "outputId": "c11dbb1a-d3af-473c-c1c6-230b9d61b38a"
      },
      "execution_count": 6,
      "outputs": [
        {
          "output_type": "stream",
          "name": "stdout",
          "text": [
            "[[6]\n",
            " [9]\n",
            " [9]\n",
            " [4]\n",
            " [1]\n",
            " [1]\n",
            " [2]\n",
            " [7]\n",
            " [8]\n",
            " [3]]\n"
          ]
        }
      ]
    },
    {
      "cell_type": "markdown",
      "source": [
        "# Build a dense neural network with an input layer, two hidden layers, and an output layer"
      ],
      "metadata": {
        "id": "E_y8DmfcbTiP"
      }
    },
    {
      "cell_type": "code",
      "source": [
        "model = tf.keras.Sequential([\n",
        "    tf.keras.layers.Flatten(input_shape=(32, 32, 3)),\n",
        "    tf.keras.layers.Dense(256, activation='relu'), #256 nodes\n",
        "    tf.keras.layers.Dense(256, activation='relu'),\n",
        "    tf.keras.layers.Dense(256, activation='relu'),\n",
        "    tf.keras.layers.Dense(10, activation='linear')\n",
        "])"
      ],
      "metadata": {
        "id": "QDRorBCuWr45"
      },
      "execution_count": 7,
      "outputs": []
    },
    {
      "cell_type": "markdown",
      "source": [
        "# Normalize the features"
      ],
      "metadata": {
        "id": "MFY6M3n5YInl"
      }
    },
    {
      "cell_type": "code",
      "source": [
        "x_train = x_train.astype('float32') / 255.0\n",
        "x_test = x_test.astype('float32') / 255.0"
      ],
      "metadata": {
        "id": "NwIaTWLAQbyy"
      },
      "execution_count": 8,
      "outputs": []
    },
    {
      "cell_type": "code",
      "source": [
        "model.compile(\n",
        "    loss=keras.losses.SparseCategoricalCrossentropy(from_logits=True),\n",
        "    optimizer='adam',\n",
        "    metrics=[\"accuracy\"],\n",
        ")"
      ],
      "metadata": {
        "id": "gwJagLlBXF8a"
      },
      "execution_count": 9,
      "outputs": []
    },
    {
      "cell_type": "markdown",
      "source": [
        "# Train the neural network on MNIST dataset"
      ],
      "metadata": {
        "id": "XiUccg9mPmTa"
      }
    },
    {
      "cell_type": "code",
      "source": [
        "history = model.fit(x_train, y_train, batch_size=64, epochs=30)"
      ],
      "metadata": {
        "colab": {
          "base_uri": "https://localhost:8080/"
        },
        "id": "vccI2YfxPl81",
        "outputId": "78b8c97a-22c9-4b9e-ea35-9f4313d60c92"
      },
      "execution_count": 10,
      "outputs": [
        {
          "output_type": "stream",
          "name": "stdout",
          "text": [
            "Epoch 1/30\n",
            "782/782 [==============================] - 15s 18ms/step - loss: 1.8407 - accuracy: 0.3304\n",
            "Epoch 2/30\n",
            "782/782 [==============================] - 14s 18ms/step - loss: 1.6562 - accuracy: 0.4076\n",
            "Epoch 3/30\n",
            "782/782 [==============================] - 14s 17ms/step - loss: 1.5714 - accuracy: 0.4374\n",
            "Epoch 4/30\n",
            "782/782 [==============================] - 13s 17ms/step - loss: 1.5197 - accuracy: 0.4529\n",
            "Epoch 5/30\n",
            "782/782 [==============================] - 13s 17ms/step - loss: 1.4834 - accuracy: 0.4697\n",
            "Epoch 6/30\n",
            "782/782 [==============================] - 13s 17ms/step - loss: 1.4456 - accuracy: 0.4819\n",
            "Epoch 7/30\n",
            "782/782 [==============================] - 14s 18ms/step - loss: 1.4197 - accuracy: 0.4895\n",
            "Epoch 8/30\n",
            "782/782 [==============================] - 13s 17ms/step - loss: 1.3961 - accuracy: 0.4977\n",
            "Epoch 9/30\n",
            "782/782 [==============================] - 13s 17ms/step - loss: 1.3656 - accuracy: 0.5110\n",
            "Epoch 10/30\n",
            "782/782 [==============================] - 13s 17ms/step - loss: 1.3387 - accuracy: 0.5201\n",
            "Epoch 11/30\n",
            "782/782 [==============================] - 13s 17ms/step - loss: 1.3167 - accuracy: 0.5265\n",
            "Epoch 12/30\n",
            "782/782 [==============================] - 13s 17ms/step - loss: 1.2984 - accuracy: 0.5329\n",
            "Epoch 13/30\n",
            "782/782 [==============================] - 13s 17ms/step - loss: 1.2683 - accuracy: 0.5432\n",
            "Epoch 14/30\n",
            "782/782 [==============================] - 13s 17ms/step - loss: 1.2424 - accuracy: 0.5523\n",
            "Epoch 15/30\n",
            "782/782 [==============================] - 13s 17ms/step - loss: 1.2205 - accuracy: 0.5606\n",
            "Epoch 16/30\n",
            "782/782 [==============================] - 13s 17ms/step - loss: 1.2008 - accuracy: 0.5669\n",
            "Epoch 17/30\n",
            "782/782 [==============================] - 13s 17ms/step - loss: 1.1745 - accuracy: 0.5755\n",
            "Epoch 18/30\n",
            "782/782 [==============================] - 13s 17ms/step - loss: 1.1545 - accuracy: 0.5827\n",
            "Epoch 19/30\n",
            "782/782 [==============================] - 13s 17ms/step - loss: 1.1301 - accuracy: 0.5927\n",
            "Epoch 20/30\n",
            "782/782 [==============================] - 13s 17ms/step - loss: 1.1059 - accuracy: 0.6002\n",
            "Epoch 21/30\n",
            "782/782 [==============================] - 13s 17ms/step - loss: 1.0909 - accuracy: 0.6050\n",
            "Epoch 22/30\n",
            "782/782 [==============================] - 13s 17ms/step - loss: 1.0600 - accuracy: 0.6139\n",
            "Epoch 23/30\n",
            "782/782 [==============================] - 13s 17ms/step - loss: 1.0433 - accuracy: 0.6211\n",
            "Epoch 24/30\n",
            "782/782 [==============================] - 13s 17ms/step - loss: 1.0169 - accuracy: 0.6299\n",
            "Epoch 25/30\n",
            "782/782 [==============================] - 13s 17ms/step - loss: 1.0110 - accuracy: 0.6345\n",
            "Epoch 26/30\n",
            "782/782 [==============================] - 13s 17ms/step - loss: 0.9828 - accuracy: 0.6440\n",
            "Epoch 27/30\n",
            "782/782 [==============================] - 13s 17ms/step - loss: 0.9689 - accuracy: 0.6481\n",
            "Epoch 28/30\n",
            "782/782 [==============================] - 13s 17ms/step - loss: 0.9461 - accuracy: 0.6586\n",
            "Epoch 29/30\n",
            "782/782 [==============================] - 13s 17ms/step - loss: 0.9227 - accuracy: 0.6667\n",
            "Epoch 30/30\n",
            "782/782 [==============================] - 13s 17ms/step - loss: 0.9047 - accuracy: 0.6712\n"
          ]
        }
      ]
    },
    {
      "cell_type": "code",
      "source": [
        "logits=model.predict(x_test)"
      ],
      "metadata": {
        "id": "h76Ctrm7SXKY",
        "colab": {
          "base_uri": "https://localhost:8080/"
        },
        "outputId": "fa5350d0-1aa8-4083-c91b-dec16835ecc3"
      },
      "execution_count": 11,
      "outputs": [
        {
          "output_type": "stream",
          "name": "stdout",
          "text": [
            "313/313 [==============================] - 1s 4ms/step\n"
          ]
        }
      ]
    },
    {
      "cell_type": "markdown",
      "source": [
        "# Visualization"
      ],
      "metadata": {
        "id": "YbLcjrsDavTu"
      }
    },
    {
      "cell_type": "code",
      "source": [
        "index=997\n",
        "plt.imshow(x_test[index])"
      ],
      "metadata": {
        "colab": {
          "base_uri": "https://localhost:8080/",
          "height": 447
        },
        "id": "9PDpCY6Gau7k",
        "outputId": "942107fb-12ad-4613-80b3-6bbe6c2f2411"
      },
      "execution_count": 12,
      "outputs": [
        {
          "output_type": "execute_result",
          "data": {
            "text/plain": [
              "<matplotlib.image.AxesImage at 0x7f72a31c0730>"
            ]
          },
          "metadata": {},
          "execution_count": 12
        },
        {
          "output_type": "display_data",
          "data": {
            "text/plain": [
              "<Figure size 640x480 with 1 Axes>"
            ],
            "image/png": "[encoded data removed]"
          },
          "metadata": {}
        }
      ]
    },
    {
      "cell_type": "code",
      "source": [
        "np.argmax(tf.nn.softmax(logits)[index])"
      ],
      "metadata": {
        "colab": {
          "base_uri": "https://localhost:8080/"
        },
        "id": "mhMI_4vabEm7",
        "outputId": "e2ef0b15-44e0-4004-c812-a91a7794f527"
      },
      "execution_count": null,
      "outputs": [
        {
          "output_type": "execute_result",
          "data": {
            "text/plain": [
              "1"
            ]
          },
          "metadata": {},
          "execution_count": 60
        }
      ]
    },
    {
      "cell_type": "code",
      "source": [
        "predictions=np.zeros(10)\n",
        "for i in range(10):\n",
        "   predictions[i]=np.argmax(tf.nn.softmax(logits)[i])\n",
        "print(predictions)"
      ],
      "metadata": {
        "colab": {
          "base_uri": "https://localhost:8080/"
        },
        "id": "wd_B3nhPaj6U",
        "outputId": "f0cc878c-5d80-430b-d77c-a50e785c3776"
      },
      "execution_count": 14,
      "outputs": [
        {
          "output_type": "stream",
          "name": "stdout",
          "text": [
            "[3. 8. 8. 8. 6. 6. 7. 6. 2. 1.]\n"
          ]
        }
      ]
    }
  ]
}